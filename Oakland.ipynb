{
 "cells": [
  {
   "cell_type": "code",
   "execution_count": 1,
   "id": "f282bf4d",
   "metadata": {},
   "outputs": [],
   "source": [
    "import numpy as np\n",
    "import pandas as pd\n",
    "from pandas import DataFrame"
   ]
  },
  {
   "cell_type": "code",
   "execution_count": 2,
   "id": "95147e96",
   "metadata": {},
   "outputs": [],
   "source": [
    "file_path = \"./records-for-2012.csv\"\n",
    "df = pd.read_csv(file_path, header=0)"
   ]
  },
  {
   "cell_type": "code",
   "execution_count": 4,
   "id": "0b776fac",
   "metadata": {},
   "outputs": [
    {
     "data": {
      "text/plain": [
       "04X     8088\n",
       "08X     6691\n",
       "30Y     5529\n",
       "26Y     5374\n",
       "23X     5301\n",
       "19X     5158\n",
       "30X     4988\n",
       "34X     4965\n",
       "20X     4682\n",
       "06X     4676\n",
       "29X     4606\n",
       "25X     4396\n",
       "03X     4380\n",
       "35X     4291\n",
       "07X     4235\n",
       "31Y     3975\n",
       "09X     3845\n",
       "32X     3836\n",
       "21Y     3822\n",
       "27Y     3701\n",
       "33X     3697\n",
       "27X     3685\n",
       "12Y     3344\n",
       "32Y     3328\n",
       "22X     3131\n",
       "14X     3070\n",
       "02Y     3043\n",
       "03Y     3009\n",
       "26X     2982\n",
       "10X     2961\n",
       "13Z     2946\n",
       "02X     2798\n",
       "10Y     2727\n",
       "22Y     2725\n",
       "24Y     2723\n",
       "05X     2681\n",
       "21X     2674\n",
       "15X     2671\n",
       "17Y     2635\n",
       "12X     2491\n",
       "24X     2483\n",
       "31X     2482\n",
       "28X     2321\n",
       "01X     2193\n",
       "11X     2165\n",
       "17X     2127\n",
       "35Y     1986\n",
       "13Y     1898\n",
       "31Z     1849\n",
       "18Y     1816\n",
       "16Y     1680\n",
       "14Y     1578\n",
       "25Y     1512\n",
       "18X     1224\n",
       "13X     1212\n",
       "16X     1197\n",
       "05Y      836\n",
       "PDT2      28\n",
       "Name: Beat, dtype: int64"
      ]
     },
     "execution_count": 4,
     "metadata": {},
     "output_type": "execute_result"
    }
   ],
   "source": [
    "# 数据摘要\n",
    "df[\"Beat\"].value_counts() # 标称属性 例：country频数"
   ]
  },
  {
   "cell_type": "code",
   "execution_count": 6,
   "id": "d76a2da7",
   "metadata": {},
   "outputs": [
    {
     "name": "stdout",
     "output_type": "stream",
     "text": [
      "缺失值个数：1415\n",
      "最小值：1.0\n",
      "Q1：1.0\n",
      "中位数：1.0\n",
      "Q3：2.0\n",
      "最大值：2.0\n"
     ]
    }
   ],
   "source": [
    "nums = df[\"Area Id\"] # 数值属性 5数概括及缺失值的个数 例：Area Id\n",
    "nullnum = nums.isnull().sum()\n",
    "nums = nums.dropna(axis = 0)\n",
    "Minimum = min(nums)\n",
    "Maximum = max(nums)\n",
    "Q1 = np.percentile(nums, 25)\n",
    "Median = np.median(nums)\n",
    "Q3 = np.percentile(nums, 75)\n",
    "print(\"缺失值个数：{}\".format(nullnum))\n",
    "print(\"最小值：{}\".format(Minimum))\n",
    "print(\"Q1：{}\".format(Q1))\n",
    "print(\"中位数：{}\".format(Median))\n",
    "print(\"Q3：{}\".format(Q3))\n",
    "print(\"最大值：{}\".format(Maximum))"
   ]
  },
  {
   "cell_type": "code",
   "execution_count": 7,
   "id": "1e24cb31",
   "metadata": {},
   "outputs": [
    {
     "data": {
      "image/png": "[encoded data removed]",
      "text/plain": [
       "<Figure size 432x288 with 1 Axes>"
      ]
     },
     "metadata": {
      "needs_background": "light"
     },
     "output_type": "display_data"
    }
   ],
   "source": [
    "# 数据可视化\n",
    "import matplotlib.pyplot as plt\n",
    "hist = df[\"Area Id\"].hist() # 直方图"
   ]
  },
  {
   "cell_type": "code",
   "execution_count": 9,
   "id": "8aaceb96",
   "metadata": {},
   "outputs": [
    {
     "data": {
      "text/plain": [
       "<matplotlib.axes._subplots.AxesSubplot at 0x21103872d48>"
      ]
     },
     "execution_count": 9,
     "metadata": {},
     "output_type": "execute_result"
    },
    {
     "data": {
      "image/png": "[encoded data removed]",
      "text/plain": [
       "<Figure size 432x288 with 1 Axes>"
      ]
     },
     "metadata": {
      "needs_background": "light"
     },
     "output_type": "display_data"
    }
   ],
   "source": [
    "df[\"Area Id\"].plot.box() # 盒图及离群点"
   ]
  },
  {
   "cell_type": "code",
   "execution_count": 10,
   "id": "c82ed22f",
   "metadata": {},
   "outputs": [],
   "source": [
    "# 缺失值处理\n",
    "# 剔除缺失值\n",
    "data_dropna = df[\"Area Id\"].dropna(axis = 0)"
   ]
  },
  {
   "cell_type": "code",
   "execution_count": 11,
   "id": "371fecb2",
   "metadata": {},
   "outputs": [
    {
     "data": {
      "text/plain": [
       "<matplotlib.axes._subplots.AxesSubplot at 0x21102a55488>"
      ]
     },
     "execution_count": 11,
     "metadata": {},
     "output_type": "execute_result"
    },
    {
     "data": {
      "image/png": "[encoded data removed]",
      "text/plain": [
       "<Figure size 432x288 with 1 Axes>"
      ]
     },
     "metadata": {
      "needs_background": "light"
     },
     "output_type": "display_data"
    }
   ],
   "source": [
    "data_dropna.hist() # 直方图"
   ]
  },
  {
   "cell_type": "code",
   "execution_count": 12,
   "id": "eddb4cd8",
   "metadata": {},
   "outputs": [
    {
     "data": {
      "image/png": "[encoded data removed]",
      "text/plain": [
       "<Figure size 432x288 with 1 Axes>"
      ]
     },
     "metadata": {
      "needs_background": "light"
     },
     "output_type": "display_data"
    }
   ],
   "source": [
    "data_dropna.plot.box()\n",
    "plt.show() # 盒图"
   ]
  },
  {
   "cell_type": "code",
   "execution_count": 13,
   "id": "14779c7b",
   "metadata": {},
   "outputs": [
    {
     "data": {
      "text/plain": [
       "<matplotlib.axes._subplots.AxesSubplot at 0x211038296c8>"
      ]
     },
     "execution_count": 13,
     "metadata": {},
     "output_type": "execute_result"
    },
    {
     "data": {
      "image/png": "[encoded data removed]",
      "text/plain": [
       "<Figure size 432x288 with 1 Axes>"
      ]
     },
     "metadata": {
      "needs_background": "light"
     },
     "output_type": "display_data"
    }
   ],
   "source": [
    "# 用最高频率值来填补缺失值\n",
    "data_fillna=df[\"Area Id\"].fillna(df[\"Area Id\"].mode())\n",
    "data_fillna.hist() # 直方图"
   ]
  },
  {
   "cell_type": "code",
   "execution_count": 14,
   "id": "878231cb",
   "metadata": {},
   "outputs": [
    {
     "data": {
      "image/png": "[encoded data removed]",
      "text/plain": [
       "<Figure size 432x288 with 1 Axes>"
      ]
     },
     "metadata": {
      "needs_background": "light"
     },
     "output_type": "display_data"
    }
   ],
   "source": [
    "data_fillna.plot.box()\n",
    "plt.show() # 盒图"
   ]
  },
  {
   "cell_type": "code",
   "execution_count": null,
   "id": "37c6f60a",
   "metadata": {},
   "outputs": [],
   "source": []
  }
 ],
 "metadata": {
  "kernelspec": {
   "display_name": "Python 3 (ipykernel)",
   "language": "python",
   "name": "python3"
  },
  "language_info": {
   "codemirror_mode": {
    "name": "ipython",
    "version": 3
   },
   "file_extension": ".py",
   "mimetype": "text/x-python",
   "name": "python",
   "nbconvert_exporter": "python",
   "pygments_lexer": "ipython3",
   "version": "3.7.10"
  }
 },
 "nbformat": 4,
 "nbformat_minor": 5
}
