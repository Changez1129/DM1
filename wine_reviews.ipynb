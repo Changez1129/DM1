{
 "cells": [
  {
   "cell_type": "code",
   "execution_count": 3,
   "id": "d7ec37fb",
   "metadata": {},
   "outputs": [],
   "source": [
    "import numpy as np\n",
    "import pandas as pd\n",
    "from pandas import DataFrame"
   ]
  },
  {
   "cell_type": "code",
   "execution_count": 4,
   "id": "4c2bb860",
   "metadata": {},
   "outputs": [],
   "source": [
    "file_path = \"./winemag-data_first150k.csv\"\n",
    "df = pd.read_csv(file_path, header=0)"
   ]
  },
  {
   "cell_type": "code",
   "execution_count": 5,
   "id": "6eb67940",
   "metadata": {},
   "outputs": [
    {
     "data": {
      "text/plain": [
       "US                        62397\n",
       "Italy                     23478\n",
       "France                    21098\n",
       "Spain                      8268\n",
       "Chile                      5816\n",
       "Argentina                  5631\n",
       "Portugal                   5322\n",
       "Australia                  4957\n",
       "New Zealand                3320\n",
       "Austria                    3057\n",
       "Germany                    2452\n",
       "South Africa               2258\n",
       "Greece                      884\n",
       "Israel                      630\n",
       "Hungary                     231\n",
       "Canada                      196\n",
       "Romania                     139\n",
       "Slovenia                     94\n",
       "Uruguay                      92\n",
       "Croatia                      89\n",
       "Bulgaria                     77\n",
       "Moldova                      71\n",
       "Mexico                       63\n",
       "Turkey                       52\n",
       "Georgia                      43\n",
       "Lebanon                      37\n",
       "Cyprus                       31\n",
       "Brazil                       25\n",
       "Macedonia                    16\n",
       "Serbia                       14\n",
       "Morocco                      12\n",
       "England                       9\n",
       "Luxembourg                    9\n",
       "Lithuania                     8\n",
       "India                         8\n",
       "Czech Republic                6\n",
       "Ukraine                       5\n",
       "Switzerland                   4\n",
       "South Korea                   4\n",
       "Bosnia and Herzegovina        4\n",
       "China                         3\n",
       "Egypt                         3\n",
       "Slovakia                      3\n",
       "Tunisia                       2\n",
       "Albania                       2\n",
       "Montenegro                    2\n",
       "Japan                         2\n",
       "US-France                     1\n",
       "Name: country, dtype: int64"
      ]
     },
     "execution_count": 5,
     "metadata": {},
     "output_type": "execute_result"
    }
   ],
   "source": [
    "# 数据摘要\n",
    "df[\"country\"].value_counts() # 标称属性 例：country频数"
   ]
  },
  {
   "cell_type": "code",
   "execution_count": 9,
   "id": "d6c26605",
   "metadata": {},
   "outputs": [
    {
     "name": "stdout",
     "output_type": "stream",
     "text": [
      "缺失值个数：13695\n",
      "最小值：4.0\n",
      "Q1：16.0\n",
      "中位数：24.0\n",
      "Q3：40.0\n",
      "最大值：2300.0\n"
     ]
    }
   ],
   "source": [
    "nums = df[\"price\"] # 数值属性 5数概括及缺失值的个数 例：price\n",
    "nullnum = nums.isnull().sum()\n",
    "nums = nums.dropna(axis = 0)\n",
    "Minimum = min(nums)\n",
    "Maximum = max(nums)\n",
    "Q1 = np.percentile(nums, 25)\n",
    "Median = np.median(nums)\n",
    "Q3 = np.percentile(nums, 75)\n",
    "print(\"缺失值个数：{}\".format(nullnum))\n",
    "print(\"最小值：{}\".format(Minimum))\n",
    "print(\"Q1：{}\".format(Q1))\n",
    "print(\"中位数：{}\".format(Median))\n",
    "print(\"Q3：{}\".format(Q3))\n",
    "print(\"最大值：{}\".format(Maximum))"
   ]
  },
  {
   "cell_type": "code",
   "execution_count": 5,
   "id": "9e0a652c",
   "metadata": {},
   "outputs": [
    {
     "data": {
      "image/png": "[encoded data removed]",
      "text/plain": [
       "<Figure size 432x288 with 1 Axes>"
      ]
     },
     "metadata": {
      "needs_background": "light"
     },
     "output_type": "display_data"
    }
   ],
   "source": [
    "# 数据可视化\n",
    "import matplotlib.pyplot as plt\n",
    "hist = df[\"price\"].hist() # 直方图"
   ]
  },
  {
   "cell_type": "code",
   "execution_count": 15,
   "id": "ce89deb7",
   "metadata": {},
   "outputs": [
    {
     "data": {
      "text/plain": [
       "<AxesSubplot:>"
      ]
     },
     "execution_count": 15,
     "metadata": {},
     "output_type": "execute_result"
    },
    {
     "data": {
      "image/png": "[encoded data removed]",
      "text/plain": [
       "<Figure size 432x288 with 1 Axes>"
      ]
     },
     "metadata": {
      "needs_background": "light"
     },
     "output_type": "display_data"
    }
   ],
   "source": [
    "df[\"price\"].plot.box() # 盒图及离群点"
   ]
  },
  {
   "cell_type": "code",
   "execution_count": 16,
   "id": "e7969ae4",
   "metadata": {},
   "outputs": [],
   "source": [
    "# 缺失值处理\n",
    "# 剔除缺失值\n",
    "data_dropna = df[\"price\"].dropna(axis = 0)"
   ]
  },
  {
   "cell_type": "code",
   "execution_count": 17,
   "id": "57aee971",
   "metadata": {},
   "outputs": [
    {
     "data": {
      "text/plain": [
       "<AxesSubplot:>"
      ]
     },
     "execution_count": 17,
     "metadata": {},
     "output_type": "execute_result"
    },
    {
     "data": {
      "image/png": "[encoded data removed]",
      "text/plain": [
       "<Figure size 432x288 with 1 Axes>"
      ]
     },
     "metadata": {
      "needs_background": "light"
     },
     "output_type": "display_data"
    }
   ],
   "source": [
    "data_dropna.hist() # 直方图"
   ]
  },
  {
   "cell_type": "code",
   "execution_count": 18,
   "id": "484e1541",
   "metadata": {},
   "outputs": [
    {
     "data": {
      "image/png": "[encoded data removed]",
      "text/plain": [
       "<Figure size 432x288 with 1 Axes>"
      ]
     },
     "metadata": {
      "needs_background": "light"
     },
     "output_type": "display_data"
    }
   ],
   "source": [
    "data_dropna.plot.box()\n",
    "plt.show() # 盒图"
   ]
  },
  {
   "cell_type": "code",
   "execution_count": 6,
   "id": "edfed229",
   "metadata": {},
   "outputs": [
    {
     "data": {
      "text/plain": [
       "<matplotlib.axes._subplots.AxesSubplot at 0x1171710e8c8>"
      ]
     },
     "execution_count": 6,
     "metadata": {},
     "output_type": "execute_result"
    },
    {
     "data": {
      "image/png": "[encoded data removed]",
      "text/plain": [
       "<Figure size 432x288 with 1 Axes>"
      ]
     },
     "metadata": {
      "needs_background": "light"
     },
     "output_type": "display_data"
    }
   ],
   "source": [
    "# 用最高频率值来填补缺失值\n",
    "data_fillna=df[\"price\"].fillna(df[\"price\"].mode())\n",
    "data_fillna.hist() # 直方图"
   ]
  },
  {
   "cell_type": "code",
   "execution_count": 7,
   "id": "232ab8c6",
   "metadata": {},
   "outputs": [
    {
     "data": {
      "image/png": "[encoded data removed]",
      "text/plain": [
       "<Figure size 432x288 with 1 Axes>"
      ]
     },
     "metadata": {
      "needs_background": "light"
     },
     "output_type": "display_data"
    }
   ],
   "source": [
    "data_fillna.plot.box()\n",
    "plt.show() # 盒图"
   ]
  },
  {
   "cell_type": "code",
   "execution_count": null,
   "id": "e4ca9932",
   "metadata": {},
   "outputs": [],
   "source": []
  }
 ],
 "metadata": {
  "kernelspec": {
   "display_name": "Python 3 (ipykernel)",
   "language": "python",
   "name": "python3"
  },
  "language_info": {
   "codemirror_mode": {
    "name": "ipython",
    "version": 3
   },
   "file_extension": ".py",
   "mimetype": "text/x-python",
   "name": "python",
   "nbconvert_exporter": "python",
   "pygments_lexer": "ipython3",
   "version": "3.7.10"
  }
 },
 "nbformat": 4,
 "nbformat_minor": 5
}
